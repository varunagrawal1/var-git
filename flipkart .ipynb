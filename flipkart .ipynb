{
  "nbformat": 4,
  "nbformat_minor": 0,
  "metadata": {
    "colab": {
      "name": "Untitled0.ipynb",
      "provenance": [],
      "authorship_tag": "ABX9TyM+AYxgBhO8WSJILuGiQ+hZ",
      "include_colab_link": true
    },
    "kernelspec": {
      "name": "python3",
      "display_name": "Python 3"
    }
  },
  "cells": [
    {
      "cell_type": "markdown",
      "metadata": {
        "id": "view-in-github",
        "colab_type": "text"
      },
      "source": [
        "<a href=\"https://colab.research.google.com/github/varunagrawal1/var-git/blob/master/flipkart%20.ipynb\" target=\"_parent\"><img src=\"https://colab.research.google.com/assets/colab-badge.svg\" alt=\"Open In Colab\"/></a>"
      ]
    },
    {
      "cell_type": "code",
      "metadata": {
        "id": "1d9EDWfbPoJs",
        "colab_type": "code",
        "colab": {}
      },
      "source": [
        "\n",
        "import urllib\n",
        "import urllib.request\n",
        "from bs4 import BeautifulSoup"
      ],
      "execution_count": 0,
      "outputs": []
    },
    {
      "cell_type": "code",
      "metadata": {
        "id": "6PaFfFgXPtLl",
        "colab_type": "code",
        "colab": {}
      },
      "source": [
        "url=\"https://www.flipkart.com/mobile-bonanza-sneak-peak-2451gh-67sg-store?param=5699&otracker=hp_banner_1_6.bannerX3.BANNER_B6WXU6SZNZ6V&fm=neo%2Fmerchandising&iid=M_6168a1de-0622-43b0-898e-3d924a8c4006_6.B6WXU6SZNZ6V&ppt=clp&ppn=television-store&ssid=ozlr7ip7400000001581776855658\""
      ],
      "execution_count": 0,
      "outputs": []
    },
    {
      "cell_type": "code",
      "metadata": {
        "id": "Gnf1-yXmPwpT",
        "colab_type": "code",
        "colab": {}
      },
      "source": [
        "\n",
        "def make_soup(url):\n",
        "    thepage = urllib.request.urlopen(url)\n",
        "    source = BeautifulSoup(thepage, 'html.parser')\n",
        "    return source"
      ],
      "execution_count": 0,
      "outputs": []
    },
    {
      "cell_type": "code",
      "metadata": {
        "id": "t3Jtbv8lQSBJ",
        "colab_type": "code",
        "colab": {
          "base_uri": "https://localhost:8080/",
          "height": 34
        },
        "outputId": "f14095db-df78-4504-ba3b-1c710ed1f67f"
      },
      "source": [
        "soup = make_soup(url)\n",
        "print(soup.title.text)"
      ],
      "execution_count": 5,
      "outputs": [
        {
          "output_type": "stream",
          "text": [
            "Buy Products Online at Best Price in India - All Categories | Flipkart.com\n"
          ],
          "name": "stdout"
        }
      ]
    },
    {
      "cell_type": "code",
      "metadata": {
        "id": "xtwSAkZFQWin",
        "colab_type": "code",
        "colab": {
          "base_uri": "https://localhost:8080/",
          "height": 54
        },
        "outputId": "3f57db8e-01bb-4b0a-b708-d0abfbcf0279"
      },
      "source": [
        "\n",
        "pagination = soup.find('div',{'class':'_3ybBIU'})\n",
        "pagination"
      ],
      "execution_count": 8,
      "outputs": [
        {
          "output_type": "execute_result",
          "data": {
            "text/plain": [
              "<div class=\"_3ybBIU\"><div class=\"_1tz-RS\"><div class=\"_1S7OK2\"></div><div class=\"_3pNZKl\"><div class=\"_1T-JyI\"><div class=\"_3dGepu\"><a href=\"/\"><img alt=\"Flipkart\" class=\"_1e_EAo\" src=\"//img1a.flixcart.com/www/linchpin/fk-cp-zion/img/flipkart-plus_4ee2f9.png\" title=\"Flipkart\" width=\"75\"/></a><a class=\"_33x-Wq\" href=\"/plus\">Explore<!-- --> <span class=\"_2Ky4Ru\">Plus</span><img src=\"//img1a.flixcart.com/www/linchpin/fk-cp-zion/img/plus_b13a8b.png\" width=\"10\"/></a></div></div><div class=\"Y5-ZPI\"><form action=\"/search\" class=\"_1WMLwI header-form-search\" method=\"GET\"><div class=\"col-12-12 _2tVp4j\"><div class=\"O8ZS_U\"><input autocomplete=\"off\" class=\"LM6RPg\" name=\"q\" placeholder=\"Search for products, brands and more\" title=\"Search for products, brands and more\" type=\"text\" value=\"\"/></div><button class=\"vh79eN\" type=\"submit\"><svg class=\"\" height=\"20\" viewbox=\"0 0 17 18\" width=\"20\" xmlns=\"http://www.w3.org/2000/svg\"><g fill=\"#2874F1\" fill-rule=\"evenodd\"><path class=\"_2BhAHa\" d=\"m11.618 9.897l4.225 4.212c.092.092.101.232.02.313l-1.465 1.46c-.081.081-.221.072-.314-.02l-4.216-4.203\"></path><path class=\"_2BhAHa\" d=\"m6.486 10.901c-2.42 0-4.381-1.956-4.381-4.368 0-2.413 1.961-4.369 4.381-4.369 2.42 0 4.381 1.956 4.381 4.369 0 2.413-1.961 4.368-4.381 4.368m0-10.835c-3.582 0-6.486 2.895-6.486 6.467 0 3.572 2.904 6.467 6.486 6.467 3.582 0 6.486-2.895 6.486-6.467 0-3.572-2.904-6.467-6.486-6.467\"></path></g></svg></button><input name=\"otracker\" type=\"hidden\" value=\"search\"/><input name=\"otracker1\" type=\"hidden\" value=\"search\"/><input name=\"marketplace\" type=\"hidden\" value=\"FLIPKART\"/><input name=\"as-show\" type=\"hidden\" value=\"off\"/><input name=\"as\" type=\"hidden\" value=\"off\"/></div><ul class=\"col-12-12 _1PBbw8\"></ul></form></div><div class=\"_1jA3uo _34niwY\"><div class=\"dHGf8H\"><div class=\"_1jcwFN _3dmQRh\"><div><a class=\"_3Ep39l\" href=\"/account/login?ret=/mobile-bonanza-sneak-peak-2451gh-67sg-store%3Fparam%3D5699%26otracker%3Dhp_banner_1_6.bannerX3.BANNER_B6WXU6SZNZ6V%26fm%3Dneo%252Fmerchandising%26iid%3DM_6168a1de-0622-43b0-898e-3d924a8c4006_6.B6WXU6SZNZ6V%26ppt%3Dclp%26ppn%3Dtelevision-store%26ssid%3Dozlr7ip7400000001581776855658\">Login</a></div></div></div></div><div class=\"_1jA3uo\"><div class=\"dHGf8H\"><div class=\"_1jcwFN _3dmQRh\"><div><div class=\"_2aUbKa\"> <!-- -->More<!-- --> </div></div></div><svg class=\"_34Yjv1\" height=\"8\" viewbox=\"0 0 16 27\" width=\"4.7\" xmlns=\"http://www.w3.org/2000/svg\"><path class=\"_14jSvk\" d=\"M16 23.207L6.11 13.161 16 3.093 12.955 0 0 13.161l12.955 13.161z\" fill=\"#fff\"></path></svg></div></div><div class=\"_1jA3uo\"><div class=\"_1jcwFN\"><div class=\"_3K4_9Q\"><a class=\"_3ko_Ud\" href=\"/viewcart?otracker=Cart_Icon_Click\"><svg class=\"_2fcmoV\" height=\"14\" viewbox=\"0 0 16 16\" width=\"14\" xmlns=\"http://www.w3.org/2000/svg\"><path class=\"_2JpNOH\" d=\"M15.32 2.405H4.887C3 2.405 2.46.805 2.46.805L2.257.21C2.208.085 2.083 0 1.946 0H.336C.1 0-.064.24.024.46l.644 1.945L3.11 9.767c.047.137.175.23.32.23h8.418l-.493 1.958H3.768l.002.003c-.017 0-.033-.003-.05-.003-1.06 0-1.92.86-1.92 1.92s.86 1.92 1.92 1.92c.99 0 1.805-.75 1.91-1.712l5.55.076c.12.922.91 1.636 1.867 1.636 1.04 0 1.885-.844 1.885-1.885 0-.866-.584-1.593-1.38-1.814l2.423-8.832c.12-.433-.206-.86-.655-.86\" fill=\"#fff\"></path></svg><span>Cart</span></a></div></div></div></div><div class=\"_1S7OK2\"></div></div><div class=\"_2hlh_L\"></div></div>"
            ]
          },
          "metadata": {
            "tags": []
          },
          "execution_count": 8
        }
      ]
    },
    {
      "cell_type": "code",
      "metadata": {
        "id": "Cu1ku6RZRvai",
        "colab_type": "code",
        "colab": {}
      },
      "source": [
        "name = pagination.find('div', {'class': '_3wU53n'})\n",
        "name"
      ],
      "execution_count": 0,
      "outputs": []
    },
    {
      "cell_type": "code",
      "metadata": {
        "id": "H0n--D0_SZXx",
        "colab_type": "code",
        "colab": {
          "base_uri": "https://localhost:8080/",
          "height": 34
        },
        "outputId": "22e0e3b0-c322-4273-dede-e203e81c2105"
      },
      "source": [
        "len(pagination.findAll('div',{'class':'_1UoZlX'}))"
      ],
      "execution_count": 15,
      "outputs": [
        {
          "output_type": "execute_result",
          "data": {
            "text/plain": [
              "0"
            ]
          },
          "metadata": {
            "tags": []
          },
          "execution_count": 15
        }
      ]
    },
    {
      "cell_type": "code",
      "metadata": {
        "id": "HJxw03gOTQr9",
        "colab_type": "code",
        "colab": {}
      },
      "source": [
        "va=soup.find('div',{'class':'_2tnqd0 _1_l8MX'})"
      ],
      "execution_count": 0,
      "outputs": []
    },
    {
      "cell_type": "code",
      "metadata": {
        "id": "F92t5pToUF3e",
        "colab_type": "code",
        "colab": {}
      },
      "source": [
        "va\n"
      ],
      "execution_count": 0,
      "outputs": []
    },
    {
      "cell_type": "code",
      "metadata": {
        "id": "cOI3yHaIUHX4",
        "colab_type": "code",
        "colab": {
          "base_uri": "https://localhost:8080/",
          "height": 34
        },
        "outputId": "65add133-452e-41dd-b275-5f0316f11741"
      },
      "source": [
        "\n",
        "name = soup.find('div', {'bhgxx2 col-12-12'}).text.strip()\n",
        "name"
      ],
      "execution_count": 23,
      "outputs": [
        {
          "output_type": "execute_result",
          "data": {
            "text/plain": [
              "''"
            ]
          },
          "metadata": {
            "tags": []
          },
          "execution_count": 23
        }
      ]
    },
    {
      "cell_type": "code",
      "metadata": {
        "id": "2_4he-6OU1Pm",
        "colab_type": "code",
        "colab": {
          "base_uri": "https://localhost:8080/",
          "height": 34
        },
        "outputId": "59c3a835-002c-428c-8126-bac34abbc804"
      },
      "source": [
        " print(soup.find('img', {'class': '_2VeolH _3I5S6S'}).get('src'))"
      ],
      "execution_count": 30,
      "outputs": [
        {
          "output_type": "stream",
          "text": [
            "https://rukminim1.flixcart.com/flap/50/50/image/5326814f22902cc1.jpg?q=50\n"
          ],
          "name": "stdout"
        }
      ]
    },
    {
      "cell_type": "code",
      "metadata": {
        "id": "C_Aa9VMpV57k",
        "colab_type": "code",
        "colab": {
          "base_uri": "https://localhost:8080/",
          "height": 34
        },
        "outputId": "92ff60b2-bc7e-490e-9f83-4a8b50bc5631"
      },
      "source": [
        " print(soup.find('img', {'class': '_2VeolH _3I5S6S'}).get('src'))"
      ],
      "execution_count": 32,
      "outputs": [
        {
          "output_type": "stream",
          "text": [
            "https://rukminim1.flixcart.com/flap/50/50/image/5326814f22902cc1.jpg?q=50\n"
          ],
          "name": "stdout"
        }
      ]
    },
    {
      "cell_type": "code",
      "metadata": {
        "id": "PJAju36WXQn8",
        "colab_type": "code",
        "colab": {
          "base_uri": "https://localhost:8080/",
          "height": 34
        },
        "outputId": "2100bb53-d1c2-4b69-954e-aa5ed75af7a9"
      },
      "source": [
        "print(soup.find('div',{'class':'_3ybBIU'}).text.strip())"
      ],
      "execution_count": 35,
      "outputs": [
        {
          "output_type": "stream",
          "text": [
            "Explore PlusLogin More Cart\n"
          ],
          "name": "stdout"
        }
      ]
    },
    {
      "cell_type": "code",
      "metadata": {
        "id": "A5SElR9qX6Lu",
        "colab_type": "code",
        "colab": {
          "base_uri": "https://localhost:8080/",
          "height": 34
        },
        "outputId": "2adf11d2-3857-4915-ec39-927808f08767"
      },
      "source": [
        "   print(soup.find('div',{'class':'_12iFZG _3PG6Wd'}).text.strip())"
      ],
      "execution_count": 36,
      "outputs": [
        {
          "output_type": "stream",
          "text": [
            "Mobile bonanza sneak peek\n"
          ],
          "name": "stdout"
        }
      ]
    },
    {
      "cell_type": "code",
      "metadata": {
        "id": "tmQlytcyYz7y",
        "colab_type": "code",
        "colab": {}
      },
      "source": [
        ""
      ],
      "execution_count": 0,
      "outputs": []
    }
  ]
}